{
 "cells": [
  {
   "cell_type": "markdown",
   "id": "9ee376f1f1c4ba15",
   "metadata": {
    "collapsed": false
   },
   "source": [
    "# INFO 602 Final Project - InfoSec Open Source Intelligence (OSINT) Categorization\n",
    "Michael Poff"
   ]
  },
  {
   "cell_type": "code",
   "execution_count": 1,
   "id": "7cc55b5a-f65a-456e-a105-7fa232a125b4",
   "metadata": {
    "collapsed": false,
    "ExecuteTime": {
     "end_time": "2024-02-17T07:27:54.030153600Z",
     "start_time": "2024-02-17T07:27:53.186889200Z"
    }
   },
   "outputs": [],
   "source": [
    "import pandas as pd\n",
    "import matplotlib.pyplot as plt\n",
    "import seaborn as sns\n",
    "from wordcloud import WordCloud, STOPWORDS\n",
    "import nltk\n",
    "from nltk.corpus import stopwords\n",
    "from sklearn.feature_extraction.text import CountVectorizer\n",
    "from IPython.display import display, Markdown"
   ]
  },
  {
   "cell_type": "markdown",
   "id": "96c2e2d6b6a32831",
   "metadata": {
    "collapsed": false
   },
   "source": [
    "## Data"
   ]
  },
  {
   "cell_type": "code",
   "execution_count": 2,
   "id": "b92620cf866fdea1",
   "metadata": {
    "collapsed": false,
    "ExecuteTime": {
     "end_time": "2024-02-17T07:27:54.054802900Z",
     "start_time": "2024-02-17T07:27:54.032151200Z"
    }
   },
   "outputs": [
    {
     "data": {
      "text/plain": "<IPython.core.display.Markdown object>",
      "text/markdown": "The dataset contains 170 data points, each of which represents an article scraped from a number of information security news and intelligence providers (listed below). Each row contains the following features:"
     },
     "metadata": {},
     "output_type": "display_data"
    }
   ],
   "source": [
    "data = pd.read_csv('C:/Users/poffm/OneDrive/School/Calvin/INFO 602/FinalProject/data/article_data.csv')\n",
    "display (Markdown(f\"The dataset contains {len(data)} data points, each of which represents an article scraped from a number of information security news and intelligence providers (listed below). Each row contains the following features:\"))"
   ]
  },
  {
   "cell_type": "markdown",
   "id": "b286b55d68b1d0d1",
   "metadata": {
    "collapsed": false
   },
   "source": [
    "-   Title: The title of the article.\n",
    "-   Content: The article contents.\n",
    "-   Category: A manually labeled category label, chosen from one of nine options (listed below).\n",
    "-   Zero-Shot Category: A label applied by the [HuggingFace zero-shot classification transformer](https://huggingface.co/tasks/zero-shot-classification) using the same set of nine options.\n",
    "-   Zero-Shot Match: Indicates whether the zero-shot classification corresponds with the manual category assignment, expressed as TRUE or FALSE.\n",
    "\n",
    "**Categories:**\n",
    "-   Vulnerability Reports: Specific vulnerabilities found in software or hardware.\n",
    "-   Security Updates and Patches: Latest releases of security patches and updates.\n",
    "-   Emerging Threats and Attack Techniques: New cyber threats and attack methods.\n",
    "-   Regulatory Changes and Compliance: Updates to cybersecurity laws and regulations.\n",
    "-   Data Breaches and Security Incidents: Reports and analyses of recent data breaches or security incidents.\n",
    "-   News and Industry Updates: General security news.\n",
    "-   Marketing: Content primarily meant to highlight, advertise, or market a security product.\n",
    "\n",
    "**Sources:**\n",
    "-   [The Hacker News](https://thehackernews.com/)\n",
    "-   [Bleeping Computer](https://www.bleepingcomputer.com/)\n",
    "-   [Dark Reading](https://www.darkreading.com/)\n",
    "-   [CISA Advisories](https://www.cisa.gov/news-events/cybersecurity-advisories)\n",
    "-   [The Register - Security](https://www.theregister.com/security/)\n",
    "\n",
    "The title and article data were scraped using the Python library [Trafilatura](https://github.com/adbar/trafilatura) which does a good job of scraping content and metadata from article web pages, however some results are skewed. Rather than manually refine the data, the model should learn to ignore this extraneous text."
   ]
  },
  {
   "cell_type": "markdown",
   "id": "e97854cd12e47532",
   "metadata": {
    "collapsed": false
   },
   "source": [
    "## Exploratory Data Analysis\n",
    "\n",
    "### Data Preview\n",
    "First, a quick look at a row of data. This is limited to a single row because the contents are quite large."
   ]
  },
  {
   "cell_type": "code",
   "execution_count": 3,
   "id": "ff74f94e4660809b",
   "metadata": {
    "collapsed": false,
    "ExecuteTime": {
     "end_time": "2024-02-17T07:27:54.144853500Z",
     "start_time": "2024-02-17T07:27:54.052786900Z"
    }
   },
   "outputs": [
    {
     "data": {
      "text/plain": "<pandas.io.formats.style.Styler at 0x2c703ff71d0>",
      "text/html": "<style type=\"text/css\">\n#T_d17cd_row0_col0, #T_d17cd_row0_col1, #T_d17cd_row0_col2, #T_d17cd_row0_col3, #T_d17cd_row0_col4 {\n  background-color: black;\n  color: white;\n  border-color: gray;\n}\n</style>\n<table id=\"T_d17cd\">\n  <thead>\n    <tr>\n      <th class=\"blank level0\" >&nbsp;</th>\n      <th id=\"T_d17cd_level0_col0\" class=\"col_heading level0 col0\" >title</th>\n      <th id=\"T_d17cd_level0_col1\" class=\"col_heading level0 col1\" >content</th>\n      <th id=\"T_d17cd_level0_col2\" class=\"col_heading level0 col2\" >category</th>\n      <th id=\"T_d17cd_level0_col3\" class=\"col_heading level0 col3\" >zero-shot category</th>\n      <th id=\"T_d17cd_level0_col4\" class=\"col_heading level0 col4\" >zero-shot match</th>\n    </tr>\n  </thead>\n  <tbody>\n    <tr>\n      <th id=\"T_d17cd_level0_row0\" class=\"row_heading level0 row0\" >0</th>\n      <td id=\"T_d17cd_row0_col0\" class=\"data row0 col0\" >CISA Warns of Active Exploitation Apple iOS and macOS Vulnerability</td>\n      <td id=\"T_d17cd_row0_col1\" class=\"data row0 col1\" >The U.S. Cybersecurity and Infrastructure Security Agency (CISA) on Wednesday added a high-severity flaw impacting iOS, iPadOS, macOS, tvOS, and watchOS to its Known Exploited Vulnerabilities (KEV) catalog, based on evidence of active exploitation.The vulnerability, tracked as CVE-2022-48618 (CVSS score: 7.8), concerns a bug in the kernel component.\"An attacker with arbitrary read and write capability may be able to bypass Pointer Authentication,\" Apple said in an advisory, adding the issue \"may have been exploited against versions of iOS released before iOS 15.7.1.\"The iPhone maker said the problem was addressed with improved checks. It's currently not known how the vulnerability is being weaponized in real-world attacks.Interestingly, patches for the flaw were released on December 13, 2022, with the release of iOS 16.2, iPadOS 16.2, macOS Ventura 13.1, tvOS 16.2, and watchOS 9.2, although it was only publicly disclosed more than a year later on January 9, 2024.It's worth noting that Apple did resolve a similar flaw in the kernel (CVE-2022-32844, CVSS score: 6.3) in iOS 15.6 and iPadOS 15.6, which was shipped on July 20, 2022. It's not immediately clear if the two vulnerabilities are related.\"An app with arbitrary kernel read and write capability may be able to bypass Pointer Authentication,\" the company said at the time. \"A logic issue was addressed with improved state management.\"In light of the active exploitation of CVE-2022-48618, CISA is recommending that Federal Civilian Executive Branch (FCEB) agencies apply the fixes by February 21, 2024.The development also comes as Apple expanded patches for an actively exploited security flaw in the WebKit browser engine (CVE-2024-23222, CVSS score: 8.8) to include its Apple Vision Pro headset. The fix is available in visionOS 1.0.2.</td>\n      <td id=\"T_d17cd_row0_col2\" class=\"data row0 col2\" >vulnerability reports</td>\n      <td id=\"T_d17cd_row0_col3\" class=\"data row0 col3\" >security updates and patches</td>\n      <td id=\"T_d17cd_row0_col4\" class=\"data row0 col4\" >False</td>\n    </tr>\n  </tbody>\n</table>\n"
     },
     "execution_count": 3,
     "metadata": {},
     "output_type": "execute_result"
    }
   ],
   "source": [
    "data.head(1).style.set_properties(**{'background-color': 'black', \n",
    "                                   'color': 'white', \n",
    "                                   'border-color': 'gray'})"
   ]
  },
  {
   "cell_type": "markdown",
   "id": "341396b5-30f7-4449-8910-c0b8e1465230",
   "metadata": {},
   "source": [
    "### Categories\n",
    "This is a simple count of how many articles there are per category."
   ]
  },
  {
   "cell_type": "code",
   "execution_count": 4,
   "id": "914e49ec6cfd1e52",
   "metadata": {
    "collapsed": false,
    "ExecuteTime": {
     "end_time": "2024-02-17T07:27:54.146851400Z",
     "start_time": "2024-02-17T07:27:54.135271800Z"
    }
   },
   "outputs": [
    {
     "data": {
      "text/plain": "                                 category  count\n0               news and industry updates     83\n1  emerging threats and attack techniques     29\n2                   vulnerability reports     22\n3    data breaches and security incidents     14\n4                               marketing     13\n5            security updates and patches      7\n6       regulatory changes and compliance      2",
      "text/html": "<div>\n<style scoped>\n    .dataframe tbody tr th:only-of-type {\n        vertical-align: middle;\n    }\n\n    .dataframe tbody tr th {\n        vertical-align: top;\n    }\n\n    .dataframe thead th {\n        text-align: right;\n    }\n</style>\n<table border=\"1\" class=\"dataframe\">\n  <thead>\n    <tr style=\"text-align: right;\">\n      <th></th>\n      <th>category</th>\n      <th>count</th>\n    </tr>\n  </thead>\n  <tbody>\n    <tr>\n      <th>0</th>\n      <td>news and industry updates</td>\n      <td>83</td>\n    </tr>\n    <tr>\n      <th>1</th>\n      <td>emerging threats and attack techniques</td>\n      <td>29</td>\n    </tr>\n    <tr>\n      <th>2</th>\n      <td>vulnerability reports</td>\n      <td>22</td>\n    </tr>\n    <tr>\n      <th>3</th>\n      <td>data breaches and security incidents</td>\n      <td>14</td>\n    </tr>\n    <tr>\n      <th>4</th>\n      <td>marketing</td>\n      <td>13</td>\n    </tr>\n    <tr>\n      <th>5</th>\n      <td>security updates and patches</td>\n      <td>7</td>\n    </tr>\n    <tr>\n      <th>6</th>\n      <td>regulatory changes and compliance</td>\n      <td>2</td>\n    </tr>\n  </tbody>\n</table>\n</div>"
     },
     "execution_count": 4,
     "metadata": {},
     "output_type": "execute_result"
    }
   ],
   "source": [
    "data['category'].value_counts().reset_index()"
   ]
  },
  {
   "cell_type": "markdown",
   "id": "4bc2a124-daa8-4922-9dd4-e3ef1241294a",
   "metadata": {},
   "source": [
    "The low count of regulatory change and compliance articles may mean I need to remove the category altogether or pull more articles manually to fill out that category and provide enough data for training and testing."
   ]
  },
  {
   "cell_type": "markdown",
   "id": "3f30126d-b881-45f1-99bb-fd0cd39fe381",
   "metadata": {},
   "source": [
    "### Zero-Shot vs. Manual Classification\n",
    "This section demonstrates the effectiveness of zero-shot classification versus manual classification.\n"
   ]
  }
 ],
 "metadata": {
  "kernelspec": {
   "display_name": "Python 3 (ipykernel)",
   "language": "python",
   "name": "python3"
  },
  "language_info": {
   "codemirror_mode": {
    "name": "ipython",
    "version": 3
   },
   "file_extension": ".py",
   "mimetype": "text/x-python",
   "name": "python",
   "nbconvert_exporter": "python",
   "pygments_lexer": "ipython3",
   "version": "3.11.1"
  }
 },
 "nbformat": 4,
 "nbformat_minor": 5
}
